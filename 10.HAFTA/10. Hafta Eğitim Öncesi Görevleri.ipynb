{
 "cells": [
  {
   "attachments": {},
   "cell_type": "markdown",
   "metadata": {},
   "source": [
    "# Problem 1"
   ]
  },
  {
   "cell_type": "code",
   "execution_count": 4,
   "metadata": {},
   "outputs": [
    {
     "name": "stdout",
     "output_type": "stream",
     "text": [
      "[ 0.   2.5  5.   7.5 10. ]\n",
      "(5,)\n",
      "[[ 0. ]\n",
      " [ 2.5]\n",
      " [ 5. ]\n",
      " [ 7.5]\n",
      " [10. ]]\n",
      "2\n"
     ]
    }
   ],
   "source": [
    "\n",
    "# 1 - numpy kütüphanesini import edin\n",
    "import numpy as np\n",
    "# 2 - 0 ile 10 arasında 5 sayıdan oluşan matris üretin\n",
    "matris = np.linspace(0, 10, 5)\n",
    "print(matris)\n",
    "# 3 - matris'in boyutunu öğrenin\n",
    "print(matris.shape)\n",
    "\n",
    "# 4 - matris'i yeniden boyutlandırın\n",
    "matris = matris.reshape(5,1)\n",
    "print(matris)\n",
    "# 5 - matris'in boyut sayısını öğrenin\n",
    "print(matris.ndim)"
   ]
  },
  {
   "attachments": {},
   "cell_type": "markdown",
   "metadata": {},
   "source": [
    "# Problem 2"
   ]
  },
  {
   "cell_type": "code",
   "execution_count": 11,
   "metadata": {},
   "outputs": [
    {
     "name": "stdout",
     "output_type": "stream",
     "text": [
      "[1 3 5 7 9]\n",
      "[array([1, 3]), array([5, 7, 9])]\n",
      "[1 3 5 7 9]\n"
     ]
    }
   ],
   "source": [
    "# 1 - 0 ile 10 arasında bulunan tek sayılardan oluşan matris üretin\n",
    "matris = np.arange(1, 10, 2)\n",
    "print(matris)\n",
    "# 2 - Oluşturduğunuz matrisi parçalayın\n",
    "split_matris = np.split(matris, [2])\n",
    "print(split_matris)\n",
    "\n",
    "# 3 - Parçalanmış matrisleri birleştirin\n",
    "concatenated_matris = np.concatenate(split_matris)\n",
    "print(concatenated_matris)"
   ]
  },
  {
   "attachments": {},
   "cell_type": "markdown",
   "metadata": {},
   "source": [
    "# Problem 3"
   ]
  },
  {
   "cell_type": "code",
   "execution_count": 10,
   "metadata": {},
   "outputs": [
    {
     "name": "stdout",
     "output_type": "stream",
     "text": [
      "[33 97 33 49 87 47 65  9 71  9]\n",
      "Shape: (10,)\n",
      "Size: 10\n",
      "Data type: int32\n"
     ]
    }
   ],
   "source": [
    "# 1 - 5 ile 100 arasında ikişer ikişer atlayarak rastgele 10 sayıdan oluşan matris üretin\n",
    "matris = np.random.choice(np.arange(5, 101, 2), size=10)\n",
    "print(matris)\n",
    "# 2 - matris'in özelliklerini inceleyin\n",
    "print(\"Shape:\", matris.shape)\n",
    "print(\"Size:\", matris.size)\n",
    "print(\"Data type:\", matris.dtype)\n"
   ]
  }
 ],
 "metadata": {
  "kernelspec": {
   "display_name": "Python 3",
   "language": "python",
   "name": "python3"
  },
  "language_info": {
   "codemirror_mode": {
    "name": "ipython",
    "version": 3
   },
   "file_extension": ".py",
   "mimetype": "text/x-python",
   "name": "python",
   "nbconvert_exporter": "python",
   "pygments_lexer": "ipython3",
   "version": "3.11.1"
  },
  "orig_nbformat": 4,
  "vscode": {
   "interpreter": {
    "hash": "5026d2d6e7aaaaba093def813beadff083d8733e4a511af01735cbabd156995d"
   }
  }
 },
 "nbformat": 4,
 "nbformat_minor": 2
}
