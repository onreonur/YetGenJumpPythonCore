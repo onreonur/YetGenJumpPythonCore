{
 "cells": [
  {
   "attachments": {},
   "cell_type": "markdown",
   "metadata": {},
   "source": [
    "# Problem 1 "
   ]
  },
  {
   "cell_type": "code",
   "execution_count": 2,
   "metadata": {},
   "outputs": [
    {
     "name": "stdout",
     "output_type": "stream",
     "text": [
      "[10 15 45 75 85]\n"
     ]
    }
   ],
   "source": [
    "# 1 - numpy kütüphanesini import edin\n",
    "import numpy as np\n",
    "# 2 - 5 elemanlı bir numpy array oluşturun\n",
    "array =  np.array([15,45,75,85,10])\n",
    "# 3 - Oluşturduğunuz arrayi küçükten büyüğe sıralayın.\n",
    "kücükten_büyüge = np.sort(array)\n",
    "print(kücükten_büyüge)"
   ]
  },
  {
   "attachments": {},
   "cell_type": "markdown",
   "metadata": {},
   "source": [
    "# Problem 2"
   ]
  },
  {
   "cell_type": "code",
   "execution_count": 3,
   "metadata": {},
   "outputs": [
    {
     "name": "stdout",
     "output_type": "stream",
     "text": [
      "[10 15 30 45 60]\n",
      "[ 5  6  7  8  9 10 11 12 13 14]\n",
      "[50 55 60 65 70 75 80 85 90 95]\n",
      "[0. 0. 0. 0. 0. 0. 0. 0. 0. 0.]\n",
      "[1. 1. 1. 1. 1. 1. 1. 1. 1. 1.]\n",
      "[  0.  25.  50.  75. 100.]\n",
      "[13 19 12 20 23]\n",
      "[-0.16614435 -0.44048577  0.07788612 -0.2120456  -1.11530448 -0.72926314\n",
      " -0.69814072 -0.385927   -0.30330592  1.8339672 ]\n",
      "[[12 28 39 35 13]\n",
      " [27 38 33 41 23]\n",
      " [16 32 11 24 34]]\n",
      "[[-11 -26  -2   0  12]\n",
      " [-32 -17 -28  39 -25]\n",
      " [ -5 -11  30 -23 -18]]\n",
      "[[-11 -26  -2   0  12]\n",
      " [-32 -17 -28  39 -25]\n",
      " [ -5 -11  30 -23 -18]]\n",
      "[-27 -63 -27]\n",
      "[-48 -54   0  16 -31]\n",
      "39\n",
      "-32\n",
      "-7.8\n",
      "8\n",
      "5\n",
      "[10 11 12 13 14 15 16 17 18 19]\n",
      "[10 11 12]\n",
      "[19 18 17 16 15 14 13 12 11 10]\n",
      "[-11 -26  -2   0  12]\n",
      "-28\n",
      "[-11 -32  -5]\n",
      "[[ 121  676    4    0  144]\n",
      " [1024  289  784 1521  625]\n",
      " [  25  121  900  529  324]]\n",
      "[[False False False False False]\n",
      " [ True False False  True  True]\n",
      " [False False False False  True]]\n"
     ]
    }
   ],
   "source": [
    "import numpy as np\n",
    "# 1- (10,15,30,45,60) değerlerine sahip numpy dizisi oluşturunuz.\n",
    "result = np.array([10,15,30,45,60])\n",
    "print(result)\n",
    "# 2- (5-15) arasındaki sayılarla numpy dizisi oluşturunuz.\n",
    "result2 = np.arange(5,15)\n",
    "print(result2)\n",
    "# 3- (50-100) arasında 5'er 5'er artarak numpy dizisi oluşturunuz.\n",
    "result3 = np.arange(50,100,5)\n",
    "print(result3)\n",
    "# 4- 10 elemanlı sıfırlardan oluşan bir dizi oluşturunuz.\n",
    "result4 = np.zeros(10)\n",
    "print(result4)\n",
    "# 5- 10 elemanlı birlerden oluşan bir dizi oluşturunuz.\n",
    "result5 = np.ones(10)\n",
    "print(result5)\n",
    "# 6- (0-100) arasında eşit aralıklı 5 sayı üretin.\n",
    "result6 = np.linspace(0,100,5)\n",
    "print(result6)\n",
    "# 7- (10-30) arasında rastgele 5 tane tamsayı üretin.\n",
    "result7 = np.random.randint(10,30,5)\n",
    "print(result7)\n",
    "# 8- [-1 ile 1] arasında 10 adet sayı üretin.\n",
    "result8 = np.random.randn(10)\n",
    "print(result8)\n",
    "\n",
    "# 9- (3x5) boyutlarında (10-50) arasında rastgele bir matris oluşturunuz.\n",
    "matris = np.random.randint(10,50,15).reshape(3,5)\n",
    "print(matris)\n",
    "# 10- Üretilen matrisin satır ve sütun sayıları toplamlarını hesaplayınız ?\n",
    "matris = np.random.randint(-50,50,15).reshape(3,5)\n",
    "print(matris)\n",
    "\n",
    "rowTotal = matris.sum(axis = 1)\n",
    "colTotal = matris.sum(axis = 0)\n",
    "print(matris)\n",
    "print(rowTotal)\n",
    "print(colTotal)\n",
    "# 11- Üretilen matrisin en büyük, en küçük ve ortalaması nedir ?\n",
    "print(matris.max())\n",
    "print(matris.min())\n",
    "print(matris.mean())\n",
    "\n",
    "# 12- Üretilen matrisin en büyük değerinin indeksi kaçtır ?\n",
    "print(matris.argmax())\n",
    "print(matris.argmin())\n",
    "\n",
    "# 13- (10-20) arasındaki sayıları içeren dizinin ilk 3 elemanını seçiniz.\n",
    "arr = np.arange(10,20)\n",
    "print(arr)\n",
    "\n",
    "print(arr[:3])\n",
    "\n",
    "\n",
    "# 14- Üretilen dizinin elemanlarını tersten yazdırın.\n",
    "print(arr[::-1])\n",
    "\n",
    "# 15- Üretilen matrisin ilk satırını seçiniz.\n",
    "\n",
    "print(matris[0])\n",
    "# 16- Üretilen matrisin 2.satır 3.sütundaki elemanı hangisidir ?\n",
    "\n",
    "print(matris[1,2])\n",
    "# 17- Üretilen matrisin tüm satırlardaki ilk elemanı seçiniz.\n",
    "\n",
    "print(matris[:,0])\n",
    "# 18- Üretilen matrisin her bir elemanının karesini alınız.\n",
    "\n",
    "print(matris ** 2)\n",
    "\n",
    "# 19- Üretilen matris elemanlarının hangisi pozitif çift sayıdır ? Aralığı (-50,+50) arasında yapınız.\n",
    "random_numbers5 = np.random.randint(-50 , 50 , size=(3,5))\n",
    "\n",
    "print((random_numbers5 > 0) & (random_numbers5 % 2== 0))"
   ]
  }
 ],
 "metadata": {
  "kernelspec": {
   "display_name": "Python 3",
   "language": "python",
   "name": "python3"
  },
  "language_info": {
   "codemirror_mode": {
    "name": "ipython",
    "version": 3
   },
   "file_extension": ".py",
   "mimetype": "text/x-python",
   "name": "python",
   "nbconvert_exporter": "python",
   "pygments_lexer": "ipython3",
   "version": "3.11.1"
  },
  "orig_nbformat": 4,
  "vscode": {
   "interpreter": {
    "hash": "5026d2d6e7aaaaba093def813beadff083d8733e4a511af01735cbabd156995d"
   }
  }
 },
 "nbformat": 4,
 "nbformat_minor": 2
}
