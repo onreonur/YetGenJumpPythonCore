{
 "cells": [
  {
   "cell_type": "code",
   "execution_count": 10,
   "metadata": {},
   "outputs": [
    {
     "name": "stdout",
     "output_type": "stream",
     "text": [
      "Toprak pH değeri düşük. Sulama suyuna asitlik veren malzemeler veya organik malzemeler ekleyebilirsiniz.\n",
      "Toprak nem değeri uygun.\n",
      "Toprak sıcaklık değeri düşük. Isıtıcı kullanabilirsiniz.\n",
      "Hava sıcaklık değeri uygun.\n"
     ]
    }
   ],
   "source": [
    "ph = float(input(\"Toprak pH değerini girin: \"))\n",
    "nem = float(input(\"Toprak nem değerini girin: \"))\n",
    "toprak_sicaklik = float(input(\"Toprak sıcaklık değerini girin: \"))\n",
    "hava_sicaklik = float(input(\"Hava sıcaklık değerini girin: \"))\n",
    "\n",
    "class KarpuzYetistirme:\n",
    "    def __init__(self, toprak_pH, toprak_nem, toprak_sicaklik, hava_sicaklik):\n",
    "        self.toprak_pH = toprak_pH\n",
    "        self.toprak_nem = toprak_nem\n",
    "        self.toprak_sicaklik = toprak_sicaklik\n",
    "        self.hava_sicaklik = hava_sicaklik\n",
    "        \n",
    "    def toprak_pH_kontrol(self):\n",
    "        if self.toprak_pH >= 6.0 and self.toprak_pH <= 6.8:\n",
    "            print(\"Toprak pH değeri uygun.\")\n",
    "        elif self.toprak_pH > 6.8:\n",
    "            print(\"Toprak pH değeri yüksek. Toprağa kireç veya kül ekleyebilirsiniz.\")\n",
    "        elif self.toprak_pH < 6.0:\n",
    "            print(\"Toprak pH değeri düşük. Sulama suyuna asitlik veren malzemeler veya organik malzemeler ekleyebilirsiniz.\")\n",
    "    \n",
    "    def toprak_nem_kontrol(self):\n",
    "        if self.toprak_nem >= 60 and self.toprak_nem <= 80:\n",
    "            print(\"Toprak nem değeri uygun.\")\n",
    "        elif self.toprak_nem < 60:\n",
    "            print(\"Toprak nem değeri düşük. Daha sık sulama yapabilirsiniz.\")\n",
    "        elif self.toprak_nem > 80:\n",
    "            print(\"Toprak nem değeri yüksek. Daha az sulama yapabilirsiniz.\")\n",
    "    \n",
    "    def toprak_sicaklik_kontrol(self):\n",
    "        if self.toprak_sicaklik >= 18 and self.toprak_sicaklik <= 32:\n",
    "            print(\"Toprak sıcaklık değeri uygun.\")\n",
    "        elif self.toprak_sicaklik < 18:\n",
    "            print(\"Toprak sıcaklık değeri düşük. Isıtıcı kullanabilirsiniz.\")\n",
    "        elif self.toprak_sicaklik > 32:\n",
    "            print(\"Toprak sıcaklık değeri yüksek. Gölgeleme yapabilirsiniz.\")\n",
    "    \n",
    "    def hava_sicaklik_kontrol(self):\n",
    "        if self.hava_sicaklik >= 25 and self.hava_sicaklik <= 35:\n",
    "            print(\"Hava sıcaklık değeri uygun.\")\n",
    "        elif self.hava_sicaklik < 25:\n",
    "            print(\"Hava sıcaklık değeri düşük. Seranın havalandırmasını açabilirsiniz.\")\n",
    "        elif self.hava_sicaklik > 35:\n",
    "            print(\"Hava sıcaklık değeri yüksek. Seranın havalandırmasını artırabilirsiniz.\")\n",
    "\n",
    "    def karpuz_yetistirme_kontrol(self):\n",
    "        self.toprak_pH_kontrol()\n",
    "        self.toprak_nem_kontrol()\n",
    "        self.toprak_sicaklik_kontrol()\n",
    "        self.hava_sicaklik_kontrol()\n",
    "kontrol = KarpuzYetistirme(ph,nem,toprak_sicaklik,hava_sicaklik)   \n",
    "kontrol.karpuz_yetistirme_kontrol()     \n"
   ]
  }
 ],
 "metadata": {
  "kernelspec": {
   "display_name": "Python 3",
   "language": "python",
   "name": "python3"
  },
  "language_info": {
   "codemirror_mode": {
    "name": "ipython",
    "version": 3
   },
   "file_extension": ".py",
   "mimetype": "text/x-python",
   "name": "python",
   "nbconvert_exporter": "python",
   "pygments_lexer": "ipython3",
   "version": "3.11.1"
  },
  "orig_nbformat": 4,
  "vscode": {
   "interpreter": {
    "hash": "150b5f651deafaaf0c1e28f898142dabfd7ac22ff23bb9a538f6b29c8e397572"
   }
  }
 },
 "nbformat": 4,
 "nbformat_minor": 2
}
