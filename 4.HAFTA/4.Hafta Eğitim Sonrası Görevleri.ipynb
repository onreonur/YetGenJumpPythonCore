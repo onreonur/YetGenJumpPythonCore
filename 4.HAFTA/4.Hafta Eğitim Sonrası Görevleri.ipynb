{
 "cells": [
  {
   "cell_type": "markdown",
   "metadata": {},
   "source": [
    "# Problem 1\n",
    "`ogrenciler` adında bir sözlük oluşturunuz. Kullanıcıdan döngü yardımıyla 3 öğrenci için veri girmesini isteyerek öğrencilerin sırasıyla okul numarası, isim, soy isim, telefon numarası ve doğum tarihi bilgilerini alınız. Aldığınız öğrenci bilgilerini yine aynı döngü yardımıyla `ogrenciler` adındaki sözlükte saklayınız. Daha sonra öğrenci bilgilerinin bulunduğu sözlük yapısını ekrana bastırınız.\n",
    "\n"
   ]
  },
  {
   "cell_type": "code",
   "execution_count": 45,
   "metadata": {},
   "outputs": [
    {
     "name": "stdout",
     "output_type": "stream",
     "text": [
      "{'isim': 'Onur', 'soyisim': 'Önre', 'telefon': '05354566956'}\n",
      "Aradığınız 501 nolu öğrencinin adı: Onur soyadı: Önre ve telefonu ise 05354566956\n"
     ]
    }
   ],
   "source": [
    "# 1.Problemin Çözümünü Buraya Yazınız\n",
    "\n",
    "ogrenciler = {}\n",
    "\n",
    "numara = input(\"Öğrencinin Okul Numarası:\")\n",
    "isim = input(\"Öğrencinin İsmi:\")\n",
    "soyisim = input(\"Öğrencinin Soyismi:\")\n",
    "tel_no = input(\"Öğrencinin Telefon Numarası\")\n",
    "\n",
    "ogrenciler.update({numara:{\"isim\": isim, \"soyisim\": soyisim, \"telefon\": tel_no,}})\n",
    "\n",
    "numara = input(\"Öğrencinin Okul Numarası:\")\n",
    "isim = input(\"Öğrencinin İsmi:\")\n",
    "soyisim = input(\"Öğrencinin Soyismi:\")\n",
    "tel_no = input(\"Öğrencinin Telefon Numarası\")\n",
    "\n",
    "ogrenciler.update({numara:{\"isim\": isim, \"soyisim\": soyisim, \"telefon\": tel_no,}})\n",
    "\n",
    "numara = input(\"Öğrencinin Okul Numarası:\")\n",
    "isim = input(\"Öğrencinin İsmi:\")\n",
    "soyisim = input(\"Öğrencinin Soyismi:\")\n",
    "tel_no = input(\"Öğrencinin Telefon Numarası\")\n",
    "\n",
    "ogrenciler.update({numara:{\"isim\": isim, \"soyisim\": soyisim, \"telefon\": tel_no,}})\n",
    "\n",
    "\n",
    "ogrNo = input('öğrenci no: ')\n",
    "ogrenci = ogrenciler[ogrNo]\n",
    "print(ogrenci)\n",
    "\n",
    "print(f'Aradığınız {ogrNo} nolu öğrencinin adı: {ogrenci[\"isim\"]} soyadı: {ogrenci[\"soyisim\"]} ve telefonu ise {ogrenci[\"telefon\"]}')\n",
    "\n"
   ]
  },
  {
   "cell_type": "markdown",
   "metadata": {},
   "source": [
    "# Problem 2\n",
    "\n",
    "### a - Biraz ısınarak başlayalım!\n",
    "\n",
    "```\n",
    "numbers = [5,10,10,15,15,15,20,20,20,20]\n",
    "```\n",
    "\n",
    "Yukarıda `numbers` adında 10 elemanlı bir liste verilmiştir. Bu listenin her elemanını kontrol eden ve tekrar eden elemanları bir kez olacak şekilde başka bir listeye kopyalayan bir program yazınız. Son olarak oluşturduğunuz listeyi ekrana bastırınız.\n",
    "\n",
    "\n",
    "\n",
    "\n",
    "```\n",
    ">Output\n",
    "[5, 10, 15, 20]\n",
    "```\n"
   ]
  },
  {
   "cell_type": "code",
   "execution_count": null,
   "metadata": {},
   "outputs": [],
   "source": [
    "# 2.Problemin a Şıkkının Çözümünü Buraya Yazınız"
   ]
  },
  {
   "cell_type": "markdown",
   "metadata": {},
   "source": [
    "### 🌶️ b) Hadi işi biraz daha zorlaştıralım! \n",
    "\n",
    "\n",
    "Şimdiyse senden `numbers` isimli listedeki tekrar eden elemanları `repeatNumbers` adındaki listeye; tekrar etmeyen elemanları `uniqueNumbers`adındaki listeye kopyalayan yazmanı ve listeleri ekrana bastırmanı bekliyoruz\n",
    "\n",
    "```\n",
    ">Output\n",
    "Tekrar Eden Elemanlar: [10, 10, 15, 15, 15, 20, 20, 20, 20]\n",
    "Tekrar Etmeyen Elemanlar: [5]\n",
    "```"
   ]
  },
  {
   "cell_type": "code",
   "execution_count": 40,
   "metadata": {},
   "outputs": [
    {
     "name": "stdout",
     "output_type": "stream",
     "text": [
      "[1, 2, 5, 9]\n",
      "[1, 2, 3, 4, 5, 6, 7, 8, 9]\n"
     ]
    }
   ],
   "source": [
    "# 2.Problemin b Şıkkının Çözümünü Buraya Yazınız\n",
    "\n",
    "lis = [1, 2, 1, 2, 3, 4, 5, 1, 1, 2, 5, 6, 7, 8, 9, 9]\n",
    "  \n",
    "uniqueList = []\n",
    "duplicateList = []\n",
    "  \n",
    "for i in lis:\n",
    "    if i not in uniqueList:\n",
    "        uniqueList.append(i)\n",
    "    elif i not in duplicateList:\n",
    "        duplicateList.append(i)\n",
    "  \n",
    "print(duplicateList)\n",
    "print(uniqueList)"
   ]
  },
  {
   "cell_type": "markdown",
   "metadata": {},
   "source": [
    "# Problem 3\n",
    "sn1 = {1,2,3,4,5}\n",
    "\n",
    "sn2 = {4,5,6,7,8}\n",
    "\n",
    " Verilen 2 adet küme için kesişimlerini, farklarını ve birleşimlerini bulunuz. "
   ]
  },
  {
   "cell_type": "code",
   "execution_count": 4,
   "metadata": {},
   "outputs": [
    {
     "name": "stdout",
     "output_type": "stream",
     "text": [
      "Birleşim : {1, 2, 3, 4, 5, 6, 7, 8}\n",
      "Kesişim : {4, 5}\n",
      "Fark : {1, 2, 3}\n"
     ]
    }
   ],
   "source": [
    "# 3.Problemin Çözümünü Buraya Yazınız\n",
    "\n",
    "sn1 = {1,2,3,4,5}\n",
    "\n",
    "sn2 = {4,5,6,7,8}\n",
    "\n",
    "print(\"Birleşim :\" , sn1|sn2)\n",
    "\n",
    "print(\"Kesişim :\", sn1 & sn2)\n",
    "\n",
    "print(\"Fark :\", sn1 - sn2)\n"
   ]
  },
  {
   "cell_type": "markdown",
   "metadata": {},
   "source": [
    "# Problem 4\n",
    "\n",
    "Buradaki işlemlerimizin tamamı stringler içindir. Aşağıda verilecek olan metodlar için kendinizin örnek yaratması gerekmektedir. \n",
    "\n",
    "Örneğin `upper` için `string` değişkeni oluştururken` k = \"BAC\"` şeklinde oluşturmayınız. Bunun yerine k değişkenini `k = \"bac`\" şeklinde oluşturmanız `upper` metodundaki değişimi görebilmeniz için daha iyi olacaktır.\n",
    "\n",
    "Bütün metodlardaki değişimin gözle görülür şekilde değişimi beklenmektedir.\n",
    "\n",
    "\n",
    "1- capitalize(), lower(), upper(), swapcase(), title(), replace()\n",
    "\n",
    "2- endswith(), startswith(), find(), index(), count()\n",
    "\n",
    "3- split(), strip(), join(), islower(), isalpha(), isdigit()\n",
    "\n",
    "\n",
    "Yukarıdaki `string` metodlarındaki değişimleri görebildiğimiz bir program yazınız.\n"
   ]
  },
  {
   "cell_type": "code",
   "execution_count": 36,
   "metadata": {},
   "outputs": [
    {
     "name": "stdout",
     "output_type": "stream",
     "text": [
      "Abc\n",
      "abc\n",
      "ABC\n",
      "ABc\n",
      "Abc\n",
      "BbC\n",
      "False\n",
      "False\n",
      "0\n",
      "0\n",
      "1\n",
      "['abC']\n",
      "abC\n",
      "abC\n",
      "False\n",
      "True\n",
      "False\n"
     ]
    }
   ],
   "source": [
    "# 4.Problemin Çözümünü Buraya Yazınız\n",
    "\n",
    "s = \"abC\"\n",
    "print(s.capitalize())\n",
    "print(s.lower())\n",
    "print(s.upper())\n",
    "print(s.swapcase())\n",
    "print(s.title())\n",
    "print(s.replace(\"a\",\"B\"))\n",
    "print(s.endswith(\"aBc\"))\n",
    "print(s.startswith(\"abc\"))\n",
    "print(s.find(\"abC\"))\n",
    "print(s.index(\"abC\"))\n",
    "print(s.count(\"abC\"))\n",
    "print(s.split())\n",
    "print(s.strip())\n",
    "print(\"\".join(s))\n",
    "print(\"abC\".islower())\n",
    "print(s.isalpha())\n",
    "print(s.isdigit())"
   ]
  }
 ],
 "metadata": {
  "kernelspec": {
   "display_name": "Python 3.10.5 64-bit",
   "language": "python",
   "name": "python3"
  },
  "language_info": {
   "name": "python",
   "version": "3.11.1"
  },
  "orig_nbformat": 4,
  "vscode": {
   "interpreter": {
    "hash": "5026d2d6e7aaaaba093def813beadff083d8733e4a511af01735cbabd156995d"
   }
  }
 },
 "nbformat": 4,
 "nbformat_minor": 2
}
